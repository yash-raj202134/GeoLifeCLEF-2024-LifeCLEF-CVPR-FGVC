{
 "cells": [
  {
   "cell_type": "markdown",
   "metadata": {},
   "source": []
  },
  {
   "cell_type": "code",
   "execution_count": 1,
   "metadata": {},
   "outputs": [
    {
     "data": {
      "text/plain": [
       "'c:\\\\Users\\\\yashr\\\\Projects\\\\Major_project\\\\GeoLifeCLEF-2024-LifeCLEF-CVPR-FGVC\\\\research'"
      ]
     },
     "execution_count": 1,
     "metadata": {},
     "output_type": "execute_result"
    }
   ],
   "source": [
    "%pwd"
   ]
  },
  {
   "cell_type": "code",
   "execution_count": 2,
   "metadata": {},
   "outputs": [],
   "source": [
    "import os\n",
    "os.chdir(\"..\")"
   ]
  },
  {
   "cell_type": "code",
   "execution_count": 3,
   "metadata": {},
   "outputs": [
    {
     "data": {
      "text/plain": [
       "'c:\\\\Users\\\\yashr\\\\Projects\\\\Major_project\\\\GeoLifeCLEF-2024-LifeCLEF-CVPR-FGVC'"
      ]
     },
     "execution_count": 3,
     "metadata": {},
     "output_type": "execute_result"
    }
   ],
   "source": [
    "%pwd"
   ]
  },
  {
   "cell_type": "code",
   "execution_count": 8,
   "metadata": {},
   "outputs": [
    {
     "name": "stdout",
     "output_type": "stream",
     "text": [
      "Data Shape: torch.Size([4, 19, 12])\n",
      "Data Contents:\n",
      "tensor([[ 6086.,  6927.,  5972.,  6879.,  5974.,  8408.,  4657.,  4158.,  7932.,\n",
      "         11156.,  9219.,  8800.],\n",
      "        [ 5790.,  3379.,  4634., 10037.,  4498., 10401.,  3965.,  7002., 12336.,\n",
      "          7032.,  4439.,  5770.],\n",
      "        [ 9987., 10263.,  5015.,  2156.,  4197., 10393., 16669.,  9720.,  4712.,\n",
      "         12154.,  9488.,  3394.],\n",
      "        [ 3586.,  1112.,  2340.,  9210.,  8989.,  8615., 11052.,  4027.,  5971.,\n",
      "          4471.,  7945.,  9332.],\n",
      "        [ 9110.,  2444.,  5292.,  3968.,  5185.,  5402., 10394.,  9708.,  6741.,\n",
      "         14235.,  6441.,  5979.],\n",
      "        [ 7140.,  4352.,  3801.,  2397.,  7774.,  9844., 10696.,  5694.,  4502.,\n",
      "          5238.,  7445.,  4165.],\n",
      "        [ 4269.,  5870.,  4971.,  5867.,  8284.,  4453.,  3328., 21333.,  5322.,\n",
      "         15198.,  9684., 11021.],\n",
      "        [11689.,  7884.,  4281.,  2339.,  6392., 11629., 14030.,  6203.,  9739.,\n",
      "          1756.,  4578.,  6654.],\n",
      "        [ 9901.,  4329.,  7217.,  3952.,   813.,  5860.,  6816., 15216.,  7065.,\n",
      "          8613.,  6760.,  2309.],\n",
      "        [ 5106.,  3111.,  6355.,  3117.,  6242.,  9685., 10363., 10625.,  4050.,\n",
      "          7248., 12314.,  8217.],\n",
      "        [ 4282.,  5949.,  3571.,  1941.,  4584.,  4867.,  7346.,  9479.,  6214.,\n",
      "         10301.,  9363.,  4196.],\n",
      "        [ 4492.,  5373.,  3140.,  1558.,  6748., 11935., 11459.,  7740.,  9104.,\n",
      "          7010.,  2517.,  7732.],\n",
      "        [ 7526.,  3335.,  2199.,  6276.,  5445., 10264.,  9821.,  6539.,  8511.,\n",
      "          6799.,  5629.,  9237.],\n",
      "        [ 6666.,  3719.,   832.,  3064.,  9387.,  6572.,  1895.,  5146.,  8363.,\n",
      "         10510.,  6061.,  7695.],\n",
      "        [ 8478.,  5402.,  3753.,  4460.,  8439.,  4625.,  5511., 12292.,  5279.,\n",
      "         16874.,  7588.,  9544.],\n",
      "        [11586.,  3429.,  6380.,  3163., 10809., 10728., 10634., 11786., 11214.,\n",
      "          1970., 12812., 10328.],\n",
      "        [ 5441.,  6514.,  5301.,  7222.,  4576.,  9559.,  8920.,  7668.,  2468.,\n",
      "          8026.,  9046.,  4346.],\n",
      "        [ 3197.,  4473.,  6251.,  5847.,  3878., 12158.,  9127., 13624.,  7861.,\n",
      "         14029.,  7480.,  7694.],\n",
      "        [ 8381.,  2948.,  3412.,  6043.,  2554.,  3122.,   971., 10175.,  8748.,\n",
      "          7208.,  4830.,  7687.]])\n"
     ]
    }
   ],
   "source": [
    "import torch\n",
    "\n",
    "# Load a .pt file\n",
    "file_path = 'Dataset/geolifeclef-2024/TimeSeries-Cubes/TimeSeries-Cubes/GLC24-PA-test-bioclimatic_monthly/GLC24-PA-test-bioclimatic_monthly_1001507_cube.pt'\n",
    "file_path_ts = 'Dataset/geolifeclef-2024/TimeSeries-Cubes/TimeSeries-Cubes/GLC24-PA-test-landsat_time_series/GLC24-PA-test-landsat_time_series_1001507_cube.pt'\n",
    "\n",
    "data = torch.load(file_path)\n",
    "data_ts = torch.load(file_path_ts)\n",
    "\n",
    "\n",
    "# Print information about the loaded data\n",
    "print(\"Data Shape:\", data.shape)\n",
    "print('Time Series data shape: ', data_ts.shape)\n",
    "temp = data[0,:,:]\n",
    "print(\"Data Contents:\")\n",
    "print(temp)"
   ]
  },
  {
   "cell_type": "code",
   "execution_count": 5,
   "metadata": {},
   "outputs": [],
   "source": [
    "import pandas as pd\n",
    "\n",
    "PO = pd.read_csv('Dataset/geolifeclef-2024/GLC24_P0_metadata_train.csv')\n",
    "PA = pd.read_csv('Dataset/geolifeclef-2024/GLC24_PA_metadata_train.csv')"
   ]
  },
  {
   "cell_type": "code",
   "execution_count": 6,
   "metadata": {},
   "outputs": [
    {
     "name": "stdout",
     "output_type": "stream",
     "text": [
      "(1483637, 9)\n",
      "(5079797, 12)\n",
      "Index(['lon', 'lat', 'year', 'geoUncertaintyInM', 'areaInM2', 'region',\n",
      "       'country', 'speciesId', 'surveyId'],\n",
      "      dtype='object')\n",
      "Index(['publisher', 'year', 'month', 'day', 'lat', 'lon', 'geoUncertaintyInM',\n",
      "       'taxonRank', 'date', 'dayOfYear', 'speciesId', 'surveyId'],\n",
      "      dtype='object')\n"
     ]
    }
   ],
   "source": [
    "print(PA.shape)\n",
    "print(PO.shape)\n",
    "print(PA.columns)\n",
    "print(PO.columns)"
   ]
  },
  {
   "cell_type": "code",
   "execution_count": 7,
   "metadata": {},
   "outputs": [
    {
     "data": {
      "text/plain": [
       "'c:\\\\Users\\\\yashr\\\\Projects\\\\Major_project\\\\GeoLifeCLEF-2024-LifeCLEF-CVPR-FGVC'"
      ]
     },
     "execution_count": 7,
     "metadata": {},
     "output_type": "execute_result"
    }
   ],
   "source": [
    "%pwd"
   ]
  },
  {
   "cell_type": "code",
   "execution_count": 20,
   "metadata": {},
   "outputs": [
    {
     "ename": "FileNotFoundError",
     "evalue": "[WinError 3] The system cannot find the path specified: 'Dataset/geolifeclef-2024'",
     "output_type": "error",
     "traceback": [
      "\u001b[1;31m---------------------------------------------------------------------------\u001b[0m",
      "\u001b[1;31mFileNotFoundError\u001b[0m                         Traceback (most recent call last)",
      "Cell \u001b[1;32mIn[20], line 1\u001b[0m\n\u001b[1;32m----> 1\u001b[0m \u001b[43mos\u001b[49m\u001b[38;5;241;43m.\u001b[39;49m\u001b[43mchdir\u001b[49m\u001b[43m(\u001b[49m\u001b[38;5;124;43m\"\u001b[39;49m\u001b[38;5;124;43mDataset/geolifeclef-2024\u001b[39;49m\u001b[38;5;124;43m\"\u001b[39;49m\u001b[43m)\u001b[49m\n",
      "\u001b[1;31mFileNotFoundError\u001b[0m: [WinError 3] The system cannot find the path specified: 'Dataset/geolifeclef-2024'"
     ]
    }
   ],
   "source": []
  },
  {
   "cell_type": "code",
   "execution_count": 21,
   "metadata": {},
   "outputs": [
    {
     "data": {
      "text/plain": [
       "['geolifeclef-2024', 'geolifeclef-2024.zip']"
      ]
     },
     "execution_count": 21,
     "metadata": {},
     "output_type": "execute_result"
    }
   ],
   "source": [
    "os.listdir()"
   ]
  },
  {
   "cell_type": "code",
   "execution_count": null,
   "metadata": {},
   "outputs": [],
   "source": []
  }
 ],
 "metadata": {
  "kernelspec": {
   "display_name": "geoenv",
   "language": "python",
   "name": "python3"
  },
  "language_info": {
   "codemirror_mode": {
    "name": "ipython",
    "version": 3
   },
   "file_extension": ".py",
   "mimetype": "text/x-python",
   "name": "python",
   "nbconvert_exporter": "python",
   "pygments_lexer": "ipython3",
   "version": "3.10.14"
  }
 },
 "nbformat": 4,
 "nbformat_minor": 2
}
