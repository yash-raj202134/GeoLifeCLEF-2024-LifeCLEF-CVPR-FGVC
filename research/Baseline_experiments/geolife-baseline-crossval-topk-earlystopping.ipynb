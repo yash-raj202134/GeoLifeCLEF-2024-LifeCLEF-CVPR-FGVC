{
 "cells": [
  {
   "cell_type": "markdown",
   "id": "cd02b37e",
   "metadata": {
    "papermill": {
     "duration": 0.00843,
     "end_time": "2024-06-02T19:36:33.436367",
     "exception": false,
     "start_time": "2024-06-02T19:36:33.427937",
     "status": "completed"
    },
    "tags": []
   },
   "source": [
    "# Simple baseline with Landsat and Bioclimatic Cubes + Sentinel images [0.31626]\n",
    "\n",
    "Following the three provided baselies with different modalities, we have provide a multimodal approch based on \"siamiese\" network with multiple inputs and simple shared \"decoder\". The links for the separated baselines are as follows:\n",
    "\n",
    "- [Baseline with Bioclimatic Cubes [0.25784]]\n",
    "- [Baseline with Landsat Cubes [0.26424]]\n",
    "- [Baseline with Sentinel Images [0.23594]]\n",
    "\n",
    "**Considering the significant extent for enhancing performance of this baseline, we encourage you to experiment with various techniques, architectures, losses, etc.**\n"
   ]
  },
  {
   "cell_type": "markdown",
   "id": "84ea96a0",
   "metadata": {
    "execution": {
     "iopub.execute_input": "2024-05-01T13:30:07.054038Z",
     "iopub.status.busy": "2024-05-01T13:30:07.053659Z",
     "iopub.status.idle": "2024-05-01T13:30:07.058148Z",
     "shell.execute_reply": "2024-05-01T13:30:07.057269Z",
     "shell.execute_reply.started": "2024-05-01T13:30:07.054008Z"
    },
    "papermill": {
     "duration": 0.007906,
     "end_time": "2024-06-02T19:36:33.452727",
     "exception": false,
     "start_time": "2024-06-02T19:36:33.444821",
     "status": "completed"
    },
    "tags": []
   },
   "source": [
    "# Data description\n",
    "\n",
    "## Landsat time series\n",
    "\n",
    "Satellite time series data includes over 20 years of Landsat satellite imagery extracted from [Ecodatacube](https://stac.ecodatacube.eu/).\n",
    "The data was acquired through the Landsat satellite program and pre-processed by Ecodatacube to produce raster files scaled to the entire European continent and projected into a unique CRS.\n",
    "\n",
    "Since the original rasters require a high amount of disk space, we extracted the data points from each spectral band corresponding to all PA and PO locations (i.e., GPS coordinates) and aggregated them in (i) CSV files and (ii) data cubes as tensor objects. Each data point corresponds to the mean value of Landsat's observations at the given location for three months before the given time; e.g., the value of a time series element under column 2012_4 will represent the mean value for that element from October 2012 to December 2012.\n",
    "\n",
    "In this notebook, we will work with just the cubes. The cubes are structured as follows.\n",
    "**Shape**: `(n_bands, n_quarters, n_years)` where:\n",
    "- `n_bands` = 6 comprising [`red`, `green`, `blue`, `nir`, `swir1`, `swir2`]\n",
    "- `n_quarters` = 4 \n",
    "    - *Quarter 1*: December 2 of previous year until March 20 of current year (winter season proxy),\n",
    "    - *Quarter 2*: March 21 until June 24 of current year (spring season proxy),\n",
    "    - *Quarter 3*: June 25 until September 12 of current year (summer season proxy),\n",
    "    - *Quarter 4*: September 13 until December 1 of current year (fall season proxy).\n",
    "- `n_years` = 21 (ranging from 2000 to 2020)\n",
    "\n",
    "The datacubes can simply be loaded as tensors using PyTorch with the following command :\n",
    "\n",
    "```python\n",
    "import torch\n",
    "torch.load('path_to_file.pt')\n",
    "```\n",
    "\n",
    "**References:**\n",
    "- *Traceability (lineage): This dataset is a seasonally aggregated and gapfilled version of the Landsat GLAD analysis-ready data product presented by Potapov et al., 2020 ( https://doi.org/10.3390/rs12030426 ).*\n",
    "- *Scientific methodology: The Landsat GLAD ARD dataset was aggregated and harmonized using the eumap python package (available at https://eumap.readthedocs.io/en/latest/ ). The full process of gapfilling and harmonization is described in detail in Witjes et al., 2022 (in review, preprint available at https://doi.org/10.21203/rs.3.rs-561383/v3 ).*\n",
    "- *Ecodatacube.eu: Analysis-ready open environmental data cube for Europe (https://doi.org/10.21203/rs.3.rs-2277090/v3).*\n",
    "\n",
    "\n",
    "## Bioclimatic time series\n",
    "\n",
    "The Bioclimatic Cubes are created from **four** monthly GeoTIFF CHELSA (https://chelsa-climate.org/timeseries/) time series climatic rasters with a resolution of 30 arc seconds, i.e. approximately 1km. The four variables are the precipitation (pr), maximum- (taxmax), minimum- (tasmin), and mean (tax) daily temperatures per month from January 2000 to June 2019. We provide the data in three forms: (i) raw rasters (GeoTiff images), (ii) CSV file with pre-extracted values for each location, i.e., surveyId, and (iii) data cubes as tensor object (.pt).\n",
    "\n",
    "In this notebook, we will work with just the cubes. The cubes are structured as follows.\n",
    "**Shape**: `(n_year, n_month, n_bio)` where:\n",
    "- `n_year` = 19 (ranging from 2000 to 2018)\n",
    "- `n_month` = 12 (ranging from January 01 to December 12)\n",
    "- `n_bio` = 4 comprising [`pr` (precipitation), `tas` (mean daily air temperature), `tasmin`, `tasmax`]\n",
    "\n",
    "The datacubes can simply be loaded as tensors using PyTorch with the following command :\n",
    "\n",
    "```python\n",
    "import torch\n",
    "torch.load('path_to_file.pt')\n",
    "```\n",
    "\n",
    "**References:**\n",
    "- *Karger, D.N., Conrad, O., Böhner, J., Kawohl, T., Kreft, H., Soria-Auza, R.W., Zimmermann, N.E., Linder, P., Kessler, M. (2017): Climatologies at high resolution for the Earth land surface areas. Scientific Data. 4 170122. https://doi.org/10.1038/sdata.2017.122*\n",
    "\n",
    "- *Karger D.N., Conrad, O., Böhner, J., Kawohl, T., Kreft, H., Soria-Auza, R.W., Zimmermann, N.E, Linder, H.P., Kessler, M. Data from: Climatologies at high resolution for the earth’s land surface areas. Dryad Digital Repository. http://dx.doi.org/doi:10.5061/dryad.kd1d4*\n",
    "\n",
    "\n",
    "## Sentinel Image Patches\n",
    "\n",
    "The Sentinel Image data was acquired through the Sentinel2 satellite program and pre-processed by [Ecodatacube](https://stac.ecodatacube.eu/) to produce raster files scaled to the entire European continent and projected into a unique CRS. We filtered the data in order to pick patches from each spectral band corresponding to a location ((lon, lat) GPS coordinates) and a date matching that of our occurrences', and split them into JPEG files (RGB in 3-channels .jpeg files and NIR in single-channel .jpeg files) with a 128x128 resolution. The images were converted from sentinel uint15 to uint8 by clipping data pixel values over 10000 and applying a gamma correction of 2.5.\n",
    "\n",
    "The data can simply be loaded using the following method:\n",
    "\n",
    "```python\n",
    "def construct_patch_path(output_path, survey_id):\n",
    "    \"\"\"Construct the patch file path based on survey_id as './CD/AB/XXXXABCD.jpeg'\"\"\"\n",
    "    path = output_path\n",
    "    for d in (str(survey_id)[-2:], str(survey_id)[-4:-2]):\n",
    "        path = os.path.join(path, d)\n",
    "\n",
    "    path = os.path.join(path, f\"{survey_id}.jpeg\")\n",
    "\n",
    "    return path\n",
    "```\n",
    "\n",
    "**References:**\n",
    "- *Traceability (lineage): The dataset was produced entirely by mosaicking and seasonally aggregating imagery from the Sentinel-2 Level-2A product (https://sentinels.copernicus.eu/web/sentinel/user-guides/sentinel-2-msi/product-types/level-2a)*\n",
    "- *Ecodatacube.eu: Analysis-ready open environmental data cube for Europe (https://doi.org/10.21203/rs.3.rs-2277090/v3)*"
   ]
  },
  {
   "cell_type": "code",
   "execution_count": 1,
   "id": "3efbd081",
   "metadata": {
    "ExecuteTime": {
     "end_time": "2024-04-30T21:25:07.29831Z",
     "start_time": "2024-04-30T21:25:05.354584Z"
    },
    "execution": {
     "iopub.execute_input": "2024-06-02T19:36:33.470431Z",
     "iopub.status.busy": "2024-06-02T19:36:33.470087Z",
     "iopub.status.idle": "2024-06-02T19:36:40.685473Z",
     "shell.execute_reply": "2024-06-02T19:36:40.684687Z"
    },
    "papermill": {
     "duration": 7.227056,
     "end_time": "2024-06-02T19:36:40.687893",
     "exception": false,
     "start_time": "2024-06-02T19:36:33.460837",
     "status": "completed"
    },
    "tags": []
   },
   "outputs": [],
   "source": [
    "import os\n",
    "import torch\n",
    "from tqdm import tqdm\n",
    "from copy import deepcopy\n",
    "import numpy as np\n",
    "import pandas as pd\n",
    "import torchvision.models as models\n",
    "import torchvision.transforms as transforms\n",
    "import torch.nn as nn\n",
    "from torch.utils.data import Dataset, DataLoader, random_split\n",
    "from torch.optim.lr_scheduler import CosineAnnealingLR\n",
    "from sklearn.metrics import precision_recall_fscore_support\n",
    "from torch.distributions.beta import Beta\n",
    "\n",
    "DEBUG = False\n",
    "num_classes = 11255 # Number of all unique classes within the PO and PA data.\n",
    "seed = 151\n",
    "os.chdir(\"../../\")"
   ]
  },
  {
   "cell_type": "markdown",
   "id": "107cc264",
   "metadata": {
    "papermill": {
     "duration": 0.007846,
     "end_time": "2024-06-02T19:36:40.703859",
     "exception": false,
     "start_time": "2024-06-02T19:36:40.696013",
     "status": "completed"
    },
    "tags": []
   },
   "source": [
    "## Prepare custom dataset loader\n",
    "\n",
    "We have to slightly update the Dataset to provide the relevant data in the appropriate format."
   ]
  },
  {
   "cell_type": "code",
   "execution_count": 2,
   "id": "d26be08b",
   "metadata": {
    "ExecuteTime": {
     "end_time": "2024-04-30T21:25:32.627928Z",
     "start_time": "2024-04-30T21:25:32.612131Z"
    },
    "collapsed": false,
    "execution": {
     "iopub.execute_input": "2024-06-02T19:36:40.721577Z",
     "iopub.status.busy": "2024-06-02T19:36:40.721100Z",
     "iopub.status.idle": "2024-06-02T19:36:40.746979Z",
     "shell.execute_reply": "2024-06-02T19:36:40.745962Z"
    },
    "jupyter": {
     "outputs_hidden": false
    },
    "papermill": {
     "duration": 0.037408,
     "end_time": "2024-06-02T19:36:40.749046",
     "exception": false,
     "start_time": "2024-06-02T19:36:40.711638",
     "status": "completed"
    },
    "tags": []
   },
   "outputs": [],
   "source": [
    "from PIL import Image\n",
    "\n",
    "def construct_patch_path(data_path, survey_id):\n",
    "    \"\"\"Construct the patch file path based on plot_id as './CD/AB/XXXXABCD.jpeg'\"\"\"\n",
    "    path = data_path\n",
    "    for d in (str(survey_id)[-2:], str(survey_id)[-4:-2]):\n",
    "        path = os.path.join(path, d)\n",
    "\n",
    "    path = os.path.join(path, f\"{survey_id}.jpeg\")\n",
    "\n",
    "    return path\n",
    "\n",
    "class TrainDataset(Dataset):\n",
    "    def __init__(self, tab, bioclim_data_dir, landsat_data_dir, sentinel_data_dir, metadata, transform=None):\n",
    "        self.tab = tab\n",
    "        self.transform = transform\n",
    "        self.sentinel_transform = transform = transforms.Compose([\n",
    "            transforms.ToTensor(),\n",
    "            transforms.Normalize(mean=(0.5, 0.5, 0.5, 0.5), std=(0.5, 0.5, 0.5, 0.5)),\n",
    "        ])\n",
    "      \n",
    "        self.bioclim_data_dir = bioclim_data_dir\n",
    "        self.landsat_data_dir = landsat_data_dir\n",
    "        self.sentinel_data_dir = sentinel_data_dir\n",
    "        self.metadata = metadata\n",
    "        self.metadata = self.metadata.dropna(subset=\"speciesId\").reset_index(drop=True)\n",
    "        self.metadata['speciesId'] = self.metadata['speciesId'].astype(int)\n",
    "        self.label_dict = self.metadata.groupby('surveyId')['speciesId'].apply(list).to_dict()\n",
    "        \n",
    "        self.metadata = self.metadata.drop_duplicates(subset=\"surveyId\").reset_index(drop=True)\n",
    "\n",
    "    def __len__(self):\n",
    "        return len(self.metadata)\n",
    "\n",
    "    def __getitem__(self, idx):\n",
    "        \n",
    "        survey_id = self.metadata.surveyId[idx]\n",
    "        tab = torch.Tensor(self.tab[self.tab[\"surveyId\"]==survey_id][features].values[0])\n",
    "        landsat_sample = torch.nan_to_num(torch.load(os.path.join(self.landsat_data_dir,\n",
    "                                                                  f\"GLC24-PA-train-landsat-time-series_{survey_id}_cube.pt\")))\n",
    "        bioclim_sample = torch.nan_to_num(torch.load(os.path.join(self.bioclim_data_dir, \n",
    "                                                                  f\"GLC24-PA-train-bioclimatic_monthly_{survey_id}_cube.pt\")))\n",
    "\n",
    "        rgb_sample = np.array(Image.open(construct_patch_path(self.sentinel_data_dir, survey_id)))\n",
    "        nir_sample = np.array(Image.open(construct_patch_path(self.sentinel_data_dir.replace(\"rgb\", \"nir\").replace(\"RGB\", \"NIR\"), survey_id)))\n",
    "        sentinel_sample = np.concatenate((rgb_sample, nir_sample[...,None]), axis=2)\n",
    "\n",
    "        species_ids = self.label_dict.get(survey_id, [])  # Get list of species IDs for the survey ID\n",
    "        label = torch.zeros(num_classes)  # Initialize label tensor\n",
    "        for species_id in species_ids:\n",
    "            label_id = species_id\n",
    "            label[label_id] = 1  # Set the corresponding class index to 1 for each species\n",
    "        \n",
    "        if isinstance(landsat_sample, torch.Tensor):\n",
    "            landsat_sample = landsat_sample.permute(1, 2, 0)  # Change tensor shape from (C, H, W) to (H, W, C)\n",
    "            landsat_sample = landsat_sample.numpy()  # Convert tensor to numpy array\n",
    "            \n",
    "        if isinstance(bioclim_sample, torch.Tensor):\n",
    "            bioclim_sample = bioclim_sample.permute(1, 2, 0)  # Change tensor shape from (C, H, W) to (H, W, C)\n",
    "            bioclim_sample = bioclim_sample.numpy()  # Convert tensor to numpy array   \n",
    "        \n",
    "        if self.transform:\n",
    "            landsat_sample = self.transform(landsat_sample)\n",
    "            bioclim_sample = self.transform(bioclim_sample)\n",
    "            sentinel_sample = self.sentinel_transform(sentinel_sample)\n",
    "\n",
    "        return tab, landsat_sample, bioclim_sample, sentinel_sample, label, survey_id\n",
    "\n",
    "class TestDataset(TrainDataset):\n",
    "    def __init__(self, tab, bioclim_data_dir, landsat_data_dir, sentinel_data_dir, metadata, transform=None):\n",
    "        self.tab = tab\n",
    "        self.transform = transform\n",
    "        self.sentinel_transform = transform = transforms.Compose([\n",
    "            transforms.ToTensor(),\n",
    "            transforms.Normalize(mean=(0.5, 0.5, 0.5, 0.5), std=(0.5, 0.5, 0.5, 0.5)),\n",
    "        ])\n",
    "      \n",
    "        self.bioclim_data_dir = bioclim_data_dir\n",
    "        self.landsat_data_dir = landsat_data_dir\n",
    "        self.sentinel_data_dir = sentinel_data_dir\n",
    "        self.metadata = metadata\n",
    "        \n",
    "    def __getitem__(self, idx):\n",
    "        \n",
    "        survey_id = self.metadata.surveyId[idx]\n",
    "        tab = torch.Tensor(self.tab[self.tab[\"surveyId\"]==survey_id][features].values[0])\n",
    "        landsat_sample = torch.nan_to_num(torch.load(os.path.join(self.landsat_data_dir, \n",
    "                                                                  f\"GLC24-PA-test-landsat_time_series_{survey_id}_cube.pt\")))\n",
    "        bioclim_sample = torch.nan_to_num(torch.load(os.path.join(self.bioclim_data_dir, \n",
    "                                                                  f\"GLC24-PA-test-bioclimatic_monthly_{survey_id}_cube.pt\")))\n",
    "        \n",
    "        rgb_sample = np.array(Image.open(construct_patch_path(self.sentinel_data_dir, survey_id)))\n",
    "        nir_sample = np.array(Image.open(construct_patch_path(self.sentinel_data_dir.replace(\"rgb\", \"nir\").replace(\"RGB\", \"NIR\"), survey_id)))\n",
    "        sentinel_sample = np.concatenate((rgb_sample, nir_sample[...,None]), axis=2)\n",
    "\n",
    "        if isinstance(landsat_sample, torch.Tensor):\n",
    "            landsat_sample = landsat_sample.permute(1, 2, 0)  # Change tensor shape from (C, H, W) to (H, W, C)\n",
    "            landsat_sample = landsat_sample.numpy()  # Convert tensor to numpy array\n",
    "            \n",
    "        if isinstance(bioclim_sample, torch.Tensor):\n",
    "            bioclim_sample = bioclim_sample.permute(1, 2, 0)  # Change tensor shape from (C, H, W) to (H, W, C)\n",
    "            bioclim_sample = bioclim_sample.numpy()  # Convert tensor to numpy array   \n",
    "        \n",
    "        if self.transform:\n",
    "            landsat_sample = self.transform(landsat_sample)\n",
    "            bioclim_sample = self.transform(bioclim_sample)\n",
    "            sentinel_sample = self.sentinel_transform(sentinel_sample)\n",
    "\n",
    "        return tab, landsat_sample, bioclim_sample, sentinel_sample, survey_id"
   ]
  },
  {
   "cell_type": "code",
   "execution_count": 3,
   "id": "f8c9b81b",
   "metadata": {
    "execution": {
     "iopub.execute_input": "2024-06-02T19:36:40.767321Z",
     "iopub.status.busy": "2024-06-02T19:36:40.766558Z",
     "iopub.status.idle": "2024-06-02T19:36:40.824658Z",
     "shell.execute_reply": "2024-06-02T19:36:40.823893Z"
    },
    "papermill": {
     "duration": 0.069387,
     "end_time": "2024-06-02T19:36:40.826959",
     "exception": false,
     "start_time": "2024-06-02T19:36:40.757572",
     "status": "completed"
    },
    "tags": []
   },
   "outputs": [],
   "source": [
    "def set_seed(seed):\n",
    "    # Set seed for Python's built-in random number generator\n",
    "    torch.manual_seed(seed)\n",
    "    # Set seed for numpy\n",
    "    np.random.seed(seed)\n",
    "    # Set seed for CUDA if available\n",
    "    if torch.cuda.is_available():\n",
    "        torch.cuda.manual_seed_all(seed)\n",
    "        # Set cuDNN's random number generator seed for deterministic behavior\n",
    "        torch.backends.cudnn.deterministic = True\n",
    "        torch.backends.cudnn.benchmark = False\n",
    "\n",
    "set_seed(seed)"
   ]
  },
  {
   "cell_type": "markdown",
   "id": "683121da",
   "metadata": {
    "papermill": {
     "duration": 0.008611,
     "end_time": "2024-06-02T19:36:40.844082",
     "exception": false,
     "start_time": "2024-06-02T19:36:40.835471",
     "status": "completed"
    },
    "tags": []
   },
   "source": [
    "### Load metadata and prepare data loaders"
   ]
  },
  {
   "cell_type": "code",
   "execution_count": 4,
   "id": "ee3d501f",
   "metadata": {
    "execution": {
     "iopub.execute_input": "2024-06-02T19:36:40.861487Z",
     "iopub.status.busy": "2024-06-02T19:36:40.861149Z",
     "iopub.status.idle": "2024-06-02T19:36:41.950197Z",
     "shell.execute_reply": "2024-06-02T19:36:41.949241Z"
    },
    "papermill": {
     "duration": 1.100823,
     "end_time": "2024-06-02T19:36:41.952662",
     "exception": false,
     "start_time": "2024-06-02T19:36:40.851839",
     "status": "completed"
    },
    "tags": []
   },
   "outputs": [
    {
     "data": {
      "text/html": [
       "<div>\n",
       "<style scoped>\n",
       "    .dataframe tbody tr th:only-of-type {\n",
       "        vertical-align: middle;\n",
       "    }\n",
       "\n",
       "    .dataframe tbody tr th {\n",
       "        vertical-align: top;\n",
       "    }\n",
       "\n",
       "    .dataframe thead th {\n",
       "        text-align: right;\n",
       "    }\n",
       "</style>\n",
       "<table border=\"1\" class=\"dataframe\">\n",
       "  <thead>\n",
       "    <tr style=\"text-align: right;\">\n",
       "      <th></th>\n",
       "      <th>surveyId</th>\n",
       "      <th>Bio1</th>\n",
       "      <th>Bio2</th>\n",
       "      <th>Bio3</th>\n",
       "      <th>Bio4</th>\n",
       "      <th>Bio5</th>\n",
       "      <th>Bio6</th>\n",
       "      <th>Bio7</th>\n",
       "      <th>Bio8</th>\n",
       "      <th>Bio9</th>\n",
       "      <th>...</th>\n",
       "      <th>Soilgrid-bdod</th>\n",
       "      <th>Soilgrid-cec</th>\n",
       "      <th>Soilgrid-cfvo</th>\n",
       "      <th>Soilgrid-clay</th>\n",
       "      <th>Soilgrid-nitrogen</th>\n",
       "      <th>Soilgrid-phh2o</th>\n",
       "      <th>Soilgrid-sand</th>\n",
       "      <th>Soilgrid-silt</th>\n",
       "      <th>Soilgrid-soc</th>\n",
       "      <th>LandCover</th>\n",
       "    </tr>\n",
       "  </thead>\n",
       "  <tbody>\n",
       "    <tr>\n",
       "      <th>0</th>\n",
       "      <td>642</td>\n",
       "      <td>2814</td>\n",
       "      <td>57</td>\n",
       "      <td>2</td>\n",
       "      <td>5717</td>\n",
       "      <td>2934</td>\n",
       "      <td>2720</td>\n",
       "      <td>214</td>\n",
       "      <td>2859</td>\n",
       "      <td>2767</td>\n",
       "      <td>...</td>\n",
       "      <td>114.0</td>\n",
       "      <td>229.0</td>\n",
       "      <td>96.0</td>\n",
       "      <td>95.0</td>\n",
       "      <td>389.0</td>\n",
       "      <td>48.0</td>\n",
       "      <td>634.0</td>\n",
       "      <td>270.0</td>\n",
       "      <td>891.0</td>\n",
       "      <td>9.0</td>\n",
       "    </tr>\n",
       "    <tr>\n",
       "      <th>1</th>\n",
       "      <td>1792</td>\n",
       "      <td>2826</td>\n",
       "      <td>104</td>\n",
       "      <td>3</td>\n",
       "      <td>7607</td>\n",
       "      <td>2975</td>\n",
       "      <td>2666</td>\n",
       "      <td>309</td>\n",
       "      <td>2922</td>\n",
       "      <td>2780</td>\n",
       "      <td>...</td>\n",
       "      <td>126.0</td>\n",
       "      <td>204.0</td>\n",
       "      <td>156.0</td>\n",
       "      <td>238.0</td>\n",
       "      <td>259.0</td>\n",
       "      <td>68.0</td>\n",
       "      <td>349.0</td>\n",
       "      <td>411.0</td>\n",
       "      <td>311.0</td>\n",
       "      <td>10.0</td>\n",
       "    </tr>\n",
       "    <tr>\n",
       "      <th>2</th>\n",
       "      <td>3256</td>\n",
       "      <td>2735</td>\n",
       "      <td>93</td>\n",
       "      <td>3</td>\n",
       "      <td>6168</td>\n",
       "      <td>2876</td>\n",
       "      <td>2611</td>\n",
       "      <td>265</td>\n",
       "      <td>2755</td>\n",
       "      <td>2669</td>\n",
       "      <td>...</td>\n",
       "      <td>109.0</td>\n",
       "      <td>246.0</td>\n",
       "      <td>193.0</td>\n",
       "      <td>210.0</td>\n",
       "      <td>547.0</td>\n",
       "      <td>59.0</td>\n",
       "      <td>370.0</td>\n",
       "      <td>419.0</td>\n",
       "      <td>717.0</td>\n",
       "      <td>10.0</td>\n",
       "    </tr>\n",
       "    <tr>\n",
       "      <th>3</th>\n",
       "      <td>3855</td>\n",
       "      <td>2739</td>\n",
       "      <td>95</td>\n",
       "      <td>3</td>\n",
       "      <td>7129</td>\n",
       "      <td>2880</td>\n",
       "      <td>2583</td>\n",
       "      <td>297</td>\n",
       "      <td>2811</td>\n",
       "      <td>2661</td>\n",
       "      <td>...</td>\n",
       "      <td>112.0</td>\n",
       "      <td>252.0</td>\n",
       "      <td>195.0</td>\n",
       "      <td>189.0</td>\n",
       "      <td>489.0</td>\n",
       "      <td>60.0</td>\n",
       "      <td>375.0</td>\n",
       "      <td>435.0</td>\n",
       "      <td>571.0</td>\n",
       "      <td>10.0</td>\n",
       "    </tr>\n",
       "    <tr>\n",
       "      <th>4</th>\n",
       "      <td>4889</td>\n",
       "      <td>2809</td>\n",
       "      <td>62</td>\n",
       "      <td>2</td>\n",
       "      <td>5603</td>\n",
       "      <td>2928</td>\n",
       "      <td>2715</td>\n",
       "      <td>213</td>\n",
       "      <td>2854</td>\n",
       "      <td>2797</td>\n",
       "      <td>...</td>\n",
       "      <td>113.0</td>\n",
       "      <td>146.0</td>\n",
       "      <td>86.0</td>\n",
       "      <td>96.0</td>\n",
       "      <td>220.0</td>\n",
       "      <td>53.0</td>\n",
       "      <td>751.0</td>\n",
       "      <td>153.0</td>\n",
       "      <td>421.0</td>\n",
       "      <td>5.0</td>\n",
       "    </tr>\n",
       "  </tbody>\n",
       "</table>\n",
       "<p>5 rows × 47 columns</p>\n",
       "</div>"
      ],
      "text/plain": [
       "   surveyId  Bio1  Bio2  Bio3  Bio4  Bio5  Bio6  Bio7  Bio8  Bio9  ...  \\\n",
       "0       642  2814    57     2  5717  2934  2720   214  2859  2767  ...   \n",
       "1      1792  2826   104     3  7607  2975  2666   309  2922  2780  ...   \n",
       "2      3256  2735    93     3  6168  2876  2611   265  2755  2669  ...   \n",
       "3      3855  2739    95     3  7129  2880  2583   297  2811  2661  ...   \n",
       "4      4889  2809    62     2  5603  2928  2715   213  2854  2797  ...   \n",
       "\n",
       "   Soilgrid-bdod  Soilgrid-cec  Soilgrid-cfvo  Soilgrid-clay  \\\n",
       "0          114.0         229.0           96.0           95.0   \n",
       "1          126.0         204.0          156.0          238.0   \n",
       "2          109.0         246.0          193.0          210.0   \n",
       "3          112.0         252.0          195.0          189.0   \n",
       "4          113.0         146.0           86.0           96.0   \n",
       "\n",
       "   Soilgrid-nitrogen  Soilgrid-phh2o  Soilgrid-sand  Soilgrid-silt  \\\n",
       "0              389.0            48.0          634.0          270.0   \n",
       "1              259.0            68.0          349.0          411.0   \n",
       "2              547.0            59.0          370.0          419.0   \n",
       "3              489.0            60.0          375.0          435.0   \n",
       "4              220.0            53.0          751.0          153.0   \n",
       "\n",
       "   Soilgrid-soc  LandCover  \n",
       "0         891.0        9.0  \n",
       "1         311.0       10.0  \n",
       "2         717.0       10.0  \n",
       "3         571.0       10.0  \n",
       "4         421.0        5.0  \n",
       "\n",
       "[5 rows x 47 columns]"
      ]
     },
     "execution_count": 4,
     "metadata": {},
     "output_type": "execute_result"
    }
   ],
   "source": [
    "train_landcover = pd.read_csv(\"/Dataset/geolifeclef-2024/EnvironmentalRasters/EnvironmentalRasters/LandCover/GLC24-PA-train-landcover.csv\")\n",
    "train_solidgrids = pd.read_csv(\"/Dataset/geolifeclef-2024/EnvironmentalRasters/EnvironmentalRasters/SoilGrids/GLC24-PA-train-soilgrids.csv\")\n",
    "train_humanfootprint = pd.read_csv(\"/Dataset/geolifeclef-2024/EnvironmentalRasters/EnvironmentalRasters/Human Footprint/GLC24-PA-train-human_footprint.csv\")\n",
    "train_elevation = pd.read_csv(\"/Dataset/geolifeclef-2024/EnvironmentalRasters/EnvironmentalRasters/Elevation/GLC24-PA-train-elevation.csv\")\n",
    "train_climate = pd.read_csv(\"/Dataset/geolifeclef-2024/EnvironmentalRasters/EnvironmentalRasters/Climate/Average 1981-2010/GLC24-PA-train-bioclimatic.csv\")\n",
    "\n",
    "train_tab = train_climate.merge(train_elevation,on=\"surveyId\").merge(train_humanfootprint,on=\"surveyId\").merge(train_solidgrids,on=\"surveyId\").merge(train_landcover,on=\"surveyId\")\n",
    "features = list(train_tab.columns)[1:]\n",
    "train_tab = train_tab.fillna(-1).replace(np.inf, -1).replace(-np.inf, -1)\n",
    "\n",
    "test_landcover = pd.read_csv(\"/Dataset/geolifeclef-2024/EnvironmentalRasters/EnvironmentalRasters/LandCover/GLC24-PA-test-landcover.csv\")\n",
    "test_solidgrids = pd.read_csv(\"/Dataset/geolifeclef-2024/EnvironmentalRasters/EnvironmentalRasters/SoilGrids/GLC24-PA-test-soilgrids.csv\")\n",
    "test_humanfootprint = pd.read_csv(\"/Dataset/geolifeclef-2024/EnvironmentalRasters/EnvironmentalRasters/Human Footprint/GLC24-PA-test-human_footprint.csv\")\n",
    "test_elevation = pd.read_csv(\"/Dataset/geolifeclef-2024/EnvironmentalRasters/EnvironmentalRasters/Elevation/GLC24-PA-test-elevation.csv\")\n",
    "test_climate = pd.read_csv(\"/Dataset/geolifeclef-2024/EnvironmentalRasters/EnvironmentalRasters/Climate/Average 1981-2010/GLC24-PA-test-bioclimatic.csv\")\n",
    "\n",
    "test_tab = test_climate.merge(test_elevation,on=\"surveyId\").merge(test_humanfootprint,on=\"surveyId\").merge(test_solidgrids,on=\"surveyId\").merge(test_landcover,on=\"surveyId\")\n",
    "test_tab = test_tab.fillna(-1).replace(np.inf, -1).replace(-np.inf, -1)\n",
    "test_tab.head()"
   ]
  },
  {
   "cell_type": "code",
   "execution_count": 5,
   "id": "1bf617d8",
   "metadata": {
    "ExecuteTime": {
     "end_time": "2024-04-30T21:25:34.532017Z",
     "start_time": "2024-04-30T21:25:32.615562Z"
    },
    "collapsed": false,
    "execution": {
     "iopub.execute_input": "2024-06-02T19:36:41.972371Z",
     "iopub.status.busy": "2024-06-02T19:36:41.972041Z",
     "iopub.status.idle": "2024-06-02T19:36:47.547097Z",
     "shell.execute_reply": "2024-06-02T19:36:47.546199Z"
    },
    "jupyter": {
     "outputs_hidden": false
    },
    "papermill": {
     "duration": 5.587009,
     "end_time": "2024-06-02T19:36:47.549162",
     "exception": false,
     "start_time": "2024-06-02T19:36:41.962153",
     "status": "completed"
    },
    "tags": []
   },
   "outputs": [
    {
     "data": {
      "text/plain": [
       "(75638, 13349)"
      ]
     },
     "execution_count": 5,
     "metadata": {},
     "output_type": "execute_result"
    }
   ],
   "source": [
    "# Dataset and DataLoader\n",
    "batch_size = 128\n",
    "transform = transforms.Compose([\n",
    "    transforms.ToTensor()\n",
    "])\n",
    "\n",
    "# Load Training metadata\n",
    "train_landsat_data_path = \"/Dataset/geolifeclef-2024/TimeSeries-Cubes/TimeSeries-Cubes/GLC24-PA-train-landsat_time_series/\"\n",
    "train_bioclim_data_path = \"/Dataset/geolifeclef-2024/TimeSeries-Cubes/TimeSeries-Cubes/GLC24-PA-train-bioclimatic_monthly/\"\n",
    "train_sentinel_data_path=\"/Dataset/geolifeclef-2024/PA_Train_SatellitePatches_RGB/pa_train_patches_rgb/\"\n",
    "train_metadata_path = \"/Dataset/geolifeclef-2024/GLC24_PA_metadata_train.csv\"\n",
    "\n",
    "train_metadata = pd.read_csv(train_metadata_path)\n",
    "dataset = TrainDataset(train_tab, train_bioclim_data_path, train_landsat_data_path, train_sentinel_data_path, train_metadata, transform=transform)\n",
    "training, validation = random_split(dataset,\n",
    "                                    [int(len(dataset)*0.85), len(dataset)-int(len(dataset)*0.85)],\n",
    "                                    generator=torch.Generator().manual_seed(seed),\n",
    "    )\n",
    "train_loader = DataLoader(training, batch_size=batch_size, shuffle=True, num_workers=4)\n",
    "val_loader = DataLoader(validation, batch_size=batch_size, shuffle=False, num_workers=4)\n",
    "\n",
    "# Load Test metadata\n",
    "test_landsat_data_path = \"/Dataset/geolifeclef-2024/TimeSeries-Cubes/TimeSeries-Cubes/GLC24-PA-test-landsat_time_series/\"\n",
    "test_bioclim_data_path = \"/Dataset/geolifeclef-2024/TimeSeries-Cubes/TimeSeries-Cubes/GLC24-PA-test-bioclimatic_monthly/\"\n",
    "test_sentinel_data_path = \"/Dataset/geolifeclef-2024/PA_Test_SatellitePatches_RGB/pa_test_patches_rgb/\"\n",
    "test_metadata_path = \"/Dataset/geolifeclef-2024/GLC24_PA_metadata_test.csv\"\n",
    "\n",
    "test_metadata = pd.read_csv(test_metadata_path)\n",
    "test_dataset = TestDataset(test_tab, test_bioclim_data_path, test_landsat_data_path, test_sentinel_data_path, test_metadata, transform=transform)\n",
    "test_loader = DataLoader(test_dataset, batch_size=batch_size, shuffle=False, num_workers=4)\n",
    "\n",
    "len(training),len(validation)"
   ]
  },
  {
   "cell_type": "markdown",
   "id": "4cbe2065",
   "metadata": {
    "papermill": {
     "duration": 0.008712,
     "end_time": "2024-06-02T19:36:47.566569",
     "exception": false,
     "start_time": "2024-06-02T19:36:47.557857",
     "status": "completed"
    },
    "tags": []
   },
   "source": [
    "## Define and initialize a Multimodal Model\n",
    "\n",
    "To process multiple inputs with different modalities and formats we use so-call siamiese approach where each modality is processed with different backbone (i.e., encoder). Data encoded into a 1d vector are concatenated and classified with a simple fully connected neural network. Short recap from previous notebooks.\n",
    "- The Landsat cubes have a shape of [6,4,21] (BANDs, QUARTERs, and YEARs).\n",
    "- The Bioclimatic cubes have a shape of [4,19,12] (RASTER-TYPE, YEAR, and MONTH)\n",
    "- The Sentinel Image Patches have a shape od [128, 128, 4] (R, G, B, NIR)"
   ]
  },
  {
   "cell_type": "code",
   "execution_count": 6,
   "id": "b1f6bdcb",
   "metadata": {
    "ExecuteTime": {
     "end_time": "2024-04-30T21:25:31.014067Z",
     "start_time": "2024-04-30T21:25:31.01006Z"
    },
    "collapsed": false,
    "execution": {
     "iopub.execute_input": "2024-06-02T19:36:47.584944Z",
     "iopub.status.busy": "2024-06-02T19:36:47.584587Z",
     "iopub.status.idle": "2024-06-02T19:36:47.603972Z",
     "shell.execute_reply": "2024-06-02T19:36:47.603147Z"
    },
    "jupyter": {
     "outputs_hidden": false
    },
    "papermill": {
     "duration": 0.030871,
     "end_time": "2024-06-02T19:36:47.605988",
     "exception": false,
     "start_time": "2024-06-02T19:36:47.575117",
     "status": "completed"
    },
    "tags": []
   },
   "outputs": [],
   "source": [
    "import torch.nn.functional as F\n",
    "\n",
    "class MultimodalEnsemble(nn.Module):\n",
    "    def __init__(self, num_classes):\n",
    "        super(MultimodalEnsemble, self).__init__()\n",
    "        self.tab_norm = nn.LayerNorm([len(features)])\n",
    "        self.tab_model = nn.Sequential(nn.Linear(len(features),128),\n",
    "                                       nn.ReLU(),\n",
    "                                       nn.Linear(128,128),\n",
    "                                       nn.ReLU(),\n",
    "                                       nn.Linear(128,32),\n",
    "                                      )\n",
    "        \n",
    "        self.landsat_norm = nn.LayerNorm([6,4,21])\n",
    "        self.landsat_model = models.resnet18(weights=None)\n",
    "        # Modify the first convolutional layer to accept 6 channels instead of 3\n",
    "        self.landsat_model.conv1 = nn.Conv2d(6, 64, kernel_size=3, stride=1, padding=1, bias=False)\n",
    "        self.landsat_model.maxpool = nn.Identity()\n",
    "        \n",
    "        self.bioclim_norm = nn.LayerNorm([4,19,12])\n",
    "        self.bioclim_model = models.resnet18(weights=None)\n",
    "        # Modify the first convolutional layer to accept 4 channels instead of 3\n",
    "        self.bioclim_model.conv1 = nn.Conv2d(4, 64, kernel_size=3, stride=1, padding=1, bias=False)\n",
    "        self.bioclim_model.maxpool = nn.Identity()\n",
    "        \n",
    "        self.sentinel_model = models.swin_t(weights=\"IMAGENET1K_V1\")\n",
    "        # Modify the first layer to accept 4 channels instead of 3\n",
    "        self.sentinel_model.features[0][0] = nn.Conv2d(4, 96, kernel_size=(4, 4), stride=(4, 4))\n",
    "        self.sentinel_model.head = nn.Identity()\n",
    "        \n",
    "        self.ln0 = nn.LayerNorm(32)\n",
    "        self.ln1 = nn.LayerNorm(1000)\n",
    "        self.ln2 = nn.LayerNorm(1000)\n",
    "        self.ln3 = nn.LayerNorm(768)\n",
    "        \n",
    "        self.fc1 = nn.Linear(2768+32, 1024)\n",
    "        self.fc2 = nn.Linear(1024, num_classes)\n",
    "        \n",
    "        self.dropout = nn.Dropout(p=0.15)\n",
    "        \n",
    "    def forward(self, t, x, y, z):\n",
    "        t = self.tab_norm(t)\n",
    "        t = self.tab_model(t)\n",
    "        t = self.ln0(t)\n",
    "        t = self.dropout(t)\n",
    "        \n",
    "        x = self.landsat_norm(x)\n",
    "        x = self.landsat_model(x)\n",
    "        x = self.ln1(x)\n",
    "        x = self.dropout(x)\n",
    "        \n",
    "        y = self.bioclim_norm(y)\n",
    "        y = self.bioclim_model(y)\n",
    "        y = self.ln2(y)\n",
    "        y = self.dropout(y)\n",
    "        \n",
    "        z = self.sentinel_model(z)\n",
    "        z = self.ln3(z)\n",
    "        z = self.dropout(z)\n",
    "        \n",
    "        txyz = torch.cat((t, x, y, z), dim=1)\n",
    "        \n",
    "        txyz = self.fc1(txyz).relu()\n",
    "        txyz = self.dropout(txyz)\n",
    "        \n",
    "        out = self.fc2(txyz)\n",
    "        return out"
   ]
  },
  {
   "cell_type": "code",
   "execution_count": 7,
   "id": "00a331a5",
   "metadata": {
    "ExecuteTime": {
     "end_time": "2024-04-30T21:25:31.611823Z",
     "start_time": "2024-04-30T21:25:31.607373Z"
    },
    "collapsed": false,
    "execution": {
     "iopub.execute_input": "2024-06-02T19:36:47.624756Z",
     "iopub.status.busy": "2024-06-02T19:36:47.624394Z",
     "iopub.status.idle": "2024-06-02T19:36:50.932552Z",
     "shell.execute_reply": "2024-06-02T19:36:50.931544Z"
    },
    "jupyter": {
     "outputs_hidden": false
    },
    "papermill": {
     "duration": 3.320039,
     "end_time": "2024-06-02T19:36:50.934907",
     "exception": false,
     "start_time": "2024-06-02T19:36:47.614868",
     "status": "completed"
    },
    "tags": []
   },
   "outputs": [
    {
     "name": "stdout",
     "output_type": "stream",
     "text": [
      "DEVICE = CUDA\n"
     ]
    },
    {
     "name": "stderr",
     "output_type": "stream",
     "text": [
      "Downloading: \"https://download.pytorch.org/models/swin_t-704ceda3.pth\" to /root/.cache/torch/hub/checkpoints/swin_t-704ceda3.pth\n",
      "100%|██████████| 108M/108M [00:01<00:00, 79.6MB/s] \n"
     ]
    }
   ],
   "source": [
    "# Check if cuda is available\n",
    "device = torch.device(\"cpu\")\n",
    "\n",
    "if torch.cuda.is_available():\n",
    "    device = torch.device(\"cuda\")\n",
    "    print(\"DEVICE = CUDA\")\n",
    "\n",
    "model = MultimodalEnsemble(num_classes).to(device)"
   ]
  },
  {
   "cell_type": "markdown",
   "id": "cc31b162",
   "metadata": {
    "papermill": {
     "duration": 0.009743,
     "end_time": "2024-06-02T19:36:50.954477",
     "exception": false,
     "start_time": "2024-06-02T19:36:50.944734",
     "status": "completed"
    },
    "tags": []
   },
   "source": [
    "## Training Loop\n",
    "\n",
    "Nothing special, just a standard Pytorch training loop."
   ]
  },
  {
   "cell_type": "code",
   "execution_count": 8,
   "id": "d2f72c25",
   "metadata": {
    "ExecuteTime": {
     "end_time": "2024-04-30T21:25:32.181927Z",
     "start_time": "2024-04-30T21:25:32.177073Z"
    },
    "collapsed": false,
    "execution": {
     "iopub.execute_input": "2024-06-02T19:36:50.975104Z",
     "iopub.status.busy": "2024-06-02T19:36:50.974752Z",
     "iopub.status.idle": "2024-06-02T19:36:50.982036Z",
     "shell.execute_reply": "2024-06-02T19:36:50.981138Z"
    },
    "jupyter": {
     "outputs_hidden": false
    },
    "papermill": {
     "duration": 0.020211,
     "end_time": "2024-06-02T19:36:50.984208",
     "exception": false,
     "start_time": "2024-06-02T19:36:50.963997",
     "status": "completed"
    },
    "tags": []
   },
   "outputs": [],
   "source": [
    "# Hyperparameters\n",
    "learning_rate = 3e-4\n",
    "num_epochs = 3 if DEBUG else 15\n",
    "#positive_weigh_factor = 1.0\n",
    "\n",
    "optimizer = torch.optim.AdamW(model.parameters(), lr=learning_rate)\n",
    "criterion = torch.nn.BCEWithLogitsLoss()"
   ]
  },
  {
   "cell_type": "code",
   "execution_count": 9,
   "id": "c4af3516",
   "metadata": {
    "ExecuteTime": {
     "start_time": "2024-04-30T21:25:34.536634Z"
    },
    "collapsed": false,
    "execution": {
     "iopub.execute_input": "2024-06-02T19:36:51.004832Z",
     "iopub.status.busy": "2024-06-02T19:36:51.004484Z",
     "iopub.status.idle": "2024-06-02T21:19:05.344435Z",
     "shell.execute_reply": "2024-06-02T21:19:05.343332Z"
    },
    "is_executing": true,
    "jupyter": {
     "outputs_hidden": false
    },
    "papermill": {
     "duration": 6134.508441,
     "end_time": "2024-06-02T21:19:05.502349",
     "exception": false,
     "start_time": "2024-06-02T19:36:50.993908",
     "status": "completed"
    },
    "tags": []
   },
   "outputs": [
    {
     "name": "stdout",
     "output_type": "stream",
     "text": [
      "Training for 15 epochs started.\n"
     ]
    },
    {
     "name": "stderr",
     "output_type": "stream",
     "text": [
      "100%|██████████| 591/591 [11:47<00:00,  1.20s/it]\n"
     ]
    },
    {
     "name": "stdout",
     "output_type": "stream",
     "text": [
      "Epoch 0 : train_loss 0.01121 | val_loss 0.00492\n"
     ]
    },
    {
     "name": "stderr",
     "output_type": "stream",
     "text": [
      "100%|██████████| 591/591 [06:03<00:00,  1.63it/s]\n",
      "100%|██████████| 591/591 [06:03<00:00,  1.63it/s]\n"
     ]
    },
    {
     "name": "stdout",
     "output_type": "stream",
     "text": [
      "Epoch 2 : train_loss 0.00474 | val_loss 0.00431\n"
     ]
    },
    {
     "name": "stderr",
     "output_type": "stream",
     "text": [
      "100%|██████████| 591/591 [06:03<00:00,  1.63it/s]\n",
      "100%|██████████| 591/591 [06:03<00:00,  1.62it/s]\n"
     ]
    },
    {
     "name": "stdout",
     "output_type": "stream",
     "text": [
      "Epoch 4 : train_loss 0.00441 | val_loss 0.00415\n"
     ]
    },
    {
     "name": "stderr",
     "output_type": "stream",
     "text": [
      "100%|██████████| 591/591 [06:03<00:00,  1.63it/s]\n",
      "100%|██████████| 591/591 [06:03<00:00,  1.63it/s]\n"
     ]
    },
    {
     "name": "stdout",
     "output_type": "stream",
     "text": [
      "Epoch 6 : train_loss 0.00421 | val_loss 0.00406\n"
     ]
    },
    {
     "name": "stderr",
     "output_type": "stream",
     "text": [
      "100%|██████████| 591/591 [06:03<00:00,  1.63it/s]\n",
      "100%|██████████| 591/591 [06:03<00:00,  1.63it/s]\n"
     ]
    },
    {
     "name": "stdout",
     "output_type": "stream",
     "text": [
      "Epoch 8 : train_loss 0.00404 | val_loss 0.00399\n"
     ]
    },
    {
     "name": "stderr",
     "output_type": "stream",
     "text": [
      "100%|██████████| 591/591 [06:03<00:00,  1.63it/s]\n",
      "100%|██████████| 591/591 [06:03<00:00,  1.63it/s]\n"
     ]
    },
    {
     "name": "stdout",
     "output_type": "stream",
     "text": [
      "Epoch 10 : train_loss 0.00391 | val_loss 0.00397\n"
     ]
    },
    {
     "name": "stderr",
     "output_type": "stream",
     "text": [
      "100%|██████████| 591/591 [06:03<00:00,  1.63it/s]\n",
      "100%|██████████| 591/591 [06:03<00:00,  1.63it/s]\n"
     ]
    },
    {
     "name": "stdout",
     "output_type": "stream",
     "text": [
      "Epoch 12 : train_loss 0.00381 | val_loss 0.00396\n"
     ]
    },
    {
     "name": "stderr",
     "output_type": "stream",
     "text": [
      "100%|██████████| 591/591 [06:03<00:00,  1.63it/s]\n",
      "100%|██████████| 591/591 [06:03<00:00,  1.63it/s]\n"
     ]
    },
    {
     "name": "stdout",
     "output_type": "stream",
     "text": [
      "Epoch 14 : train_loss 0.00367 | val_loss 0.00399\n"
     ]
    }
   ],
   "source": [
    "import matplotlib.pyplot as plt\n",
    "\n",
    "# Initialize lists to store the losses\n",
    "train_losses = []\n",
    "val_losses = []\n",
    "\n",
    "print(f\"Training for {num_epochs} epochs started.\")\n",
    "\n",
    "best_val = None\n",
    "best_model = deepcopy(model)\n",
    "\n",
    "for epoch in range(num_epochs):\n",
    "    # training \n",
    "    total = 0\n",
    "    total_loss = 0\n",
    "    model.train()\n",
    "    for batch_idx, (data0, data1, data2, data3, targets, _) in enumerate(tqdm(train_loader)):\n",
    "        data0 = data0.to(device)\n",
    "        data1 = data1.to(device)\n",
    "        data2 = data2.to(device)\n",
    "        data3 = data3.to(device)\n",
    "        targets = targets.to(device)\n",
    "\n",
    "        # Mixup\n",
    "        if np.random.rand() < 0.4:\n",
    "            lam = torch.tensor(np.random.beta(0.4, 0.4)).to(device)\n",
    "            rand_index = torch.randperm(data0.size()[0]).to(device)\n",
    "            mixed_data0 = lam * data0 + (1 - lam) * data0[rand_index]\n",
    "            mixed_data1 = lam * data1 + (1 - lam) * data1[rand_index]\n",
    "            mixed_data2 = lam * data2 + (1 - lam) * data2[rand_index]\n",
    "            mixed_data3 = lam * data3 + (1 - lam) * data3[rand_index]\n",
    "            targets_a, targets_b = targets, targets[rand_index]\n",
    "            mixed_targets = lam * targets_a + (1 - lam) * targets_b\n",
    "            outputs = model(mixed_data0, mixed_data1, mixed_data2, mixed_data3)\n",
    "            loss = criterion(outputs, mixed_targets)\n",
    "        else:\n",
    "            outputs = model(data0, data1, data2, data3)\n",
    "            loss = criterion(outputs, targets)\n",
    "\n",
    "        optimizer.zero_grad()\n",
    "        loss.backward()\n",
    "        optimizer.step()\n",
    "        \n",
    "        total += data1.shape[0]\n",
    "        total_loss += loss.item() * data1.shape[0]\n",
    "        \n",
    "        if DEBUG and batch_idx > 50:\n",
    "            break\n",
    "        \n",
    "    total_loss /= total\n",
    "    train_losses.append(total_loss)  # Record the training loss\n",
    "    \n",
    "    if epoch % 2 == 0:\n",
    "        # validation \n",
    "        vtotal = 0\n",
    "        vtotal_loss = 0\n",
    "        model.eval()\n",
    "        with torch.no_grad():\n",
    "            for batch_idx, (data0, data1, data2, data3, targets, _) in enumerate(val_loader):\n",
    "                data0 = data0.to(device)\n",
    "                data1 = data1.to(device)\n",
    "                data2 = data2.to(device)\n",
    "                data3 = data3.to(device)\n",
    "                targets = targets.to(device)\n",
    "\n",
    "                outputs = model(data0, data1, data2, data3)\n",
    "\n",
    "                loss = criterion(outputs, targets)\n",
    "\n",
    "                vtotal += data1.shape[0]\n",
    "                vtotal_loss += loss.item() * data1.shape[0]\n",
    "\n",
    "                if DEBUG and batch_idx > 50:\n",
    "                    break\n",
    "\n",
    "        vtotal_loss /= vtotal\n",
    "        val_losses.append(vtotal_loss)  # Record the validation loss\n",
    "\n",
    "        print(f'Epoch {epoch} : train_loss {total_loss:.5f} | val_loss {vtotal_loss:.5f}')\n",
    "\n",
    "        if best_val is None or vtotal_loss < best_val:\n",
    "            best_val = vtotal_loss\n",
    "            best_model = deepcopy(model)\n",
    "\n",
    "# Save the trained model\n",
    "model.eval()\n",
    "torch.save(model.state_dict(), \"models/baseline/main/last.pth\")\n",
    "best_model.eval()\n",
    "torch.save(best_model.state_dict(), \"models/baseline/main/best.pth\")\n",
    "\n"
   ]
  },
  {
   "cell_type": "code",
   "execution_count": 10,
   "id": "0e32318e",
   "metadata": {
    "execution": {
     "iopub.execute_input": "2024-06-02T21:19:06.992771Z",
     "iopub.status.busy": "2024-06-02T21:19:06.991794Z",
     "iopub.status.idle": "2024-06-02T21:19:07.337244Z",
     "shell.execute_reply": "2024-06-02T21:19:07.336208Z"
    },
    "papermill": {
     "duration": 1.064627,
     "end_time": "2024-06-02T21:19:07.339343",
     "exception": false,
     "start_time": "2024-06-02T21:19:06.274716",
     "status": "completed"
    },
    "tags": []
   },
   "outputs": [
    {
     "data": {
      "image/png": "[encoded data removed]",
      "text/plain": [
       "<Figure size 1000x500 with 1 Axes>"
      ]
     },
     "metadata": {},
     "output_type": "display_data"
    }
   ],
   "source": [
    "# Plotting the loss curves\n",
    "plt.figure(figsize=(10, 5))\n",
    "plt.plot(train_losses, label='Training Loss')\n",
    "plt.plot(range(0, num_epochs, 2), val_losses, label='Validation Loss')\n",
    "plt.xlabel('Epochs')\n",
    "plt.ylabel('Loss')\n",
    "plt.title('Training and Validation Loss Curves')\n",
    "plt.legend()\n",
    "plt.show()\n"
   ]
  },
  {
   "cell_type": "markdown",
   "id": "11c92a8c",
   "metadata": {
    "papermill": {
     "duration": 0.794106,
     "end_time": "2024-06-02T21:19:08.861136",
     "exception": false,
     "start_time": "2024-06-02T21:19:08.067030",
     "status": "completed"
    },
    "tags": []
   },
   "source": [
    "# Val & thresholding"
   ]
  },
  {
   "cell_type": "code",
   "execution_count": 11,
   "id": "eaacd1cc",
   "metadata": {
    "execution": {
     "iopub.execute_input": "2024-06-02T21:19:10.271971Z",
     "iopub.status.busy": "2024-06-02T21:19:10.271589Z",
     "iopub.status.idle": "2024-06-02T21:19:11.939955Z",
     "shell.execute_reply": "2024-06-02T21:19:11.939126Z"
    },
    "papermill": {
     "duration": 2.376868,
     "end_time": "2024-06-02T21:19:11.942151",
     "exception": false,
     "start_time": "2024-06-02T21:19:09.565283",
     "status": "completed"
    },
    "tags": []
   },
   "outputs": [],
   "source": [
    "model = MultimodalEnsemble(num_classes).to(device)\n",
    "model.load_state_dict(torch.load(\"models/baseline/main/best.pth\",map_location=device))\n",
    "model.eval();"
   ]
  },
  {
   "cell_type": "code",
   "execution_count": 12,
   "id": "fac19491",
   "metadata": {
    "execution": {
     "iopub.execute_input": "2024-06-02T21:19:13.436122Z",
     "iopub.status.busy": "2024-06-02T21:19:13.435170Z",
     "iopub.status.idle": "2024-06-02T21:19:43.616992Z",
     "shell.execute_reply": "2024-06-02T21:19:43.615857Z"
    },
    "papermill": {
     "duration": 31.475583,
     "end_time": "2024-06-02T21:19:44.194739",
     "exception": false,
     "start_time": "2024-06-02T21:19:12.719156",
     "status": "completed"
    },
    "tags": []
   },
   "outputs": [
    {
     "name": "stderr",
     "output_type": "stream",
     "text": [
      "100%|██████████| 105/105 [00:29<00:00,  3.51it/s]\n"
     ]
    }
   ],
   "source": [
    "with torch.no_grad():\n",
    "    all_predictions = []\n",
    "    all_surveyID = []\n",
    "    for batch_idx, (data0, data1, data2, data3, targets, surveyID) in enumerate(tqdm(val_loader)):\n",
    "        data0 = data0.to(device)\n",
    "        data1 = data1.to(device)\n",
    "        data2 = data2.to(device)\n",
    "        data3 = data3.to(device)\n",
    "        targets = targets.to(device)\n",
    "\n",
    "        outputs = model(data0, data1, data2, data3)\n",
    "        predictions = torch.sigmoid(outputs).cpu().numpy()\n",
    "\n",
    "        all_predictions.extend(predictions)\n",
    "        all_surveyID.extend(surveyID.numpy())\n",
    "        \n",
    "all_predictions = np.array(all_predictions)\n",
    "all_surveyID = np.array(all_surveyID)"
   ]
  },
  {
   "cell_type": "code",
   "execution_count": 13,
   "id": "28969dbc",
   "metadata": {
    "execution": {
     "iopub.execute_input": "2024-06-02T21:19:45.705873Z",
     "iopub.status.busy": "2024-06-02T21:19:45.705467Z",
     "iopub.status.idle": "2024-06-02T21:20:07.557339Z",
     "shell.execute_reply": "2024-06-02T21:20:07.556420Z"
    },
    "papermill": {
     "duration": 22.65017,
     "end_time": "2024-06-02T21:20:07.559270",
     "exception": false,
     "start_time": "2024-06-02T21:19:44.909100",
     "status": "completed"
    },
    "tags": []
   },
   "outputs": [
    {
     "name": "stderr",
     "output_type": "stream",
     "text": [
      "100%|██████████| 13349/13349 [00:20<00:00, 659.26it/s]\n"
     ]
    },
    {
     "data": {
      "text/plain": [
       "13349"
      ]
     },
     "execution_count": 13,
     "metadata": {},
     "output_type": "execute_result"
    }
   ],
   "source": [
    "train_pa = pd.read_csv(train_metadata_path)\n",
    "gt = []\n",
    "\n",
    "for surveyId in tqdm(all_surveyID):\n",
    "    gt.append(train_pa[train_pa[\"surveyId\"]==surveyId].speciesId.values.astype(int).tolist())\n",
    "    \n",
    "\n",
    "len(gt)"
   ]
  },
  {
   "cell_type": "code",
   "execution_count": 14,
   "id": "e87ffd7a",
   "metadata": {
    "execution": {
     "iopub.execute_input": "2024-06-02T21:20:09.050200Z",
     "iopub.status.busy": "2024-06-02T21:20:09.049530Z",
     "iopub.status.idle": "2024-06-02T21:20:33.727910Z",
     "shell.execute_reply": "2024-06-02T21:20:33.726999Z"
    },
    "papermill": {
     "duration": 25.41755,
     "end_time": "2024-06-02T21:20:33.731155",
     "exception": false,
     "start_time": "2024-06-02T21:20:08.313605",
     "status": "completed"
    },
    "tags": []
   },
   "outputs": [
    {
     "name": "stderr",
     "output_type": "stream",
     "text": [
      "100%|██████████| 99/99 [00:20<00:00,  4.92it/s]"
     ]
    },
    {
     "name": "stdout",
     "output_type": "stream",
     "text": [
      "best score 0.40618 @ top 18\n"
     ]
    },
    {
     "name": "stderr",
     "output_type": "stream",
     "text": [
      "\n"
     ]
    }
   ],
   "source": [
    "def eval_pred(pred,gt):\n",
    "    list_f1 = []\n",
    "    for p,g in zip(pred,gt):\n",
    "        sp = set(p)\n",
    "        sg = set(g)\n",
    "        TP = len(list(sp.intersection(sg)))\n",
    "        FP = len(list(sp-sg))\n",
    "        FN = len(list(sg-sp))\n",
    "        f1 = TP/(TP + (FP+FN)/2)\n",
    "        list_f1.append(f1)\n",
    "    return np.mean(list_f1)\n",
    "\n",
    "pred_sorted = np.argsort(-all_predictions, axis=1)\n",
    "best_top_k = 1\n",
    "best_score = 0\n",
    "f1_scores = []\n",
    "for k in tqdm(range(1,100)):\n",
    "    top_k = pred_sorted[:, :k].tolist()\n",
    "    score = eval_pred(top_k,gt)\n",
    "    f1_scores.append(score)\n",
    "    if score > best_score :\n",
    "        best_score = score\n",
    "        best_top_k = k\n",
    "        \n",
    "print(f'best score {best_score:.5f} @ top {best_top_k}')"
   ]
  },
  {
   "cell_type": "code",
   "execution_count": 15,
   "id": "d316c0c2",
   "metadata": {
    "execution": {
     "iopub.execute_input": "2024-06-02T21:20:35.344541Z",
     "iopub.status.busy": "2024-06-02T21:20:35.343627Z",
     "iopub.status.idle": "2024-06-02T21:20:35.663463Z",
     "shell.execute_reply": "2024-06-02T21:20:35.662546Z"
    },
    "papermill": {
     "duration": 1.103913,
     "end_time": "2024-06-02T21:20:35.665605",
     "exception": false,
     "start_time": "2024-06-02T21:20:34.561692",
     "status": "completed"
    },
    "tags": []
   },
   "outputs": [
    {
     "data": {
      "image/png": "[encoded data removed]",
      "text/plain": [
       "<Figure size 1000x500 with 1 Axes>"
      ]
     },
     "metadata": {},
     "output_type": "display_data"
    }
   ],
   "source": [
    "# Plot F1 score vs. top-k\n",
    "plt.figure(figsize=(10, 5))\n",
    "plt.plot(range(1, 100), f1_scores, marker='o')\n",
    "plt.xlabel('Top-K')\n",
    "plt.ylabel('F1 Score')\n",
    "plt.title('F1 Score vs. Top-K')\n",
    "plt.show()"
   ]
  },
  {
   "cell_type": "code",
   "execution_count": 16,
   "id": "f5381715",
   "metadata": {
    "execution": {
     "iopub.execute_input": "2024-06-02T21:20:37.145094Z",
     "iopub.status.busy": "2024-06-02T21:20:37.144655Z",
     "iopub.status.idle": "2024-06-02T21:20:37.444521Z",
     "shell.execute_reply": "2024-06-02T21:20:37.443613Z"
    },
    "papermill": {
     "duration": 1.044616,
     "end_time": "2024-06-02T21:20:37.446738",
     "exception": false,
     "start_time": "2024-06-02T21:20:36.402122",
     "status": "completed"
    },
    "tags": []
   },
   "outputs": [
    {
     "data": {
      "image/png": "[encoded data removed]",
      "text/plain": [
       "<Figure size 1000x500 with 1 Axes>"
      ]
     },
     "metadata": {},
     "output_type": "display_data"
    }
   ],
   "source": [
    "# Assuming val_losses list is already populated during the training process\n",
    "\n",
    "plt.figure(figsize=(10, 5))\n",
    "plt.plot(range(0, num_epochs, 2), val_losses, marker='o', label='Validation Loss')\n",
    "plt.xlabel('Epochs')\n",
    "plt.ylabel('Loss')\n",
    "plt.title('Validation Loss Over Epochs')\n",
    "plt.legend()\n",
    "plt.show()"
   ]
  },
  {
   "cell_type": "code",
   "execution_count": 17,
   "id": "cd8526be",
   "metadata": {
    "execution": {
     "iopub.execute_input": "2024-06-02T21:20:39.013600Z",
     "iopub.status.busy": "2024-06-02T21:20:39.012871Z",
     "iopub.status.idle": "2024-06-02T21:20:39.498013Z",
     "shell.execute_reply": "2024-06-02T21:20:39.497063Z"
    },
    "papermill": {
     "duration": 1.228072,
     "end_time": "2024-06-02T21:20:39.500075",
     "exception": false,
     "start_time": "2024-06-02T21:20:38.272003",
     "status": "completed"
    },
    "tags": []
   },
   "outputs": [
    {
     "data": {
      "image/png": "[encoded data removed]",
      "text/plain": [
       "<Figure size 2000x500 with 2 Axes>"
      ]
     },
     "metadata": {},
     "output_type": "display_data"
    }
   ],
   "source": [
    "fig, axs = plt.subplots(1, 2, figsize=(20, 5))\n",
    "\n",
    "# Plot F1 score vs. top-k\n",
    "axs[0].plot(range(1, 100), f1_scores, marker='o')\n",
    "axs[0].set_xlabel('Top-K')\n",
    "axs[0].set_ylabel('F1 Score')\n",
    "axs[0].set_title('F1 Score vs. Top-K')\n",
    "\n",
    "# Plot validation loss over epochs\n",
    "axs[1].plot(range(0, num_epochs, 2), val_losses, marker='o', label='Validation Loss')\n",
    "axs[1].set_xlabel('Epochs')\n",
    "axs[1].set_ylabel('Loss')\n",
    "axs[1].set_title('Validation Loss Over Epochs')\n",
    "axs[1].legend()\n",
    "\n",
    "plt.show()"
   ]
  },
  {
   "cell_type": "markdown",
   "id": "d568ae95",
   "metadata": {
    "papermill": {
     "duration": 0.853833,
     "end_time": "2024-06-02T21:20:41.097876",
     "exception": false,
     "start_time": "2024-06-02T21:20:40.244043",
     "status": "completed"
    },
    "tags": []
   },
   "source": [
    "## Test Loop\n"
   ]
  },
  {
   "cell_type": "code",
   "execution_count": 18,
   "id": "c71c8cc4",
   "metadata": {
    "execution": {
     "iopub.execute_input": "2024-06-02T21:20:42.576571Z",
     "iopub.status.busy": "2024-06-02T21:20:42.576214Z",
     "iopub.status.idle": "2024-06-02T21:20:44.047782Z",
     "shell.execute_reply": "2024-06-02T21:20:44.046799Z"
    },
    "papermill": {
     "duration": 2.21262,
     "end_time": "2024-06-02T21:20:44.050178",
     "exception": false,
     "start_time": "2024-06-02T21:20:41.837558",
     "status": "completed"
    },
    "tags": []
   },
   "outputs": [],
   "source": [
    "model = MultimodalEnsemble(num_classes).to(device)\n",
    "model.load_state_dict(torch.load(\"models/baseline/main/best.pth\",map_location=device))\n",
    "model.eval();"
   ]
  },
  {
   "cell_type": "code",
   "execution_count": 19,
   "id": "cf9d26aa",
   "metadata": {
    "collapsed": false,
    "execution": {
     "iopub.execute_input": "2024-06-02T21:20:45.610387Z",
     "iopub.status.busy": "2024-06-02T21:20:45.610021Z",
     "iopub.status.idle": "2024-06-02T21:21:45.317868Z",
     "shell.execute_reply": "2024-06-02T21:21:45.316560Z"
    },
    "jupyter": {
     "outputs_hidden": false
    },
    "papermill": {
     "duration": 60.530632,
     "end_time": "2024-06-02T21:21:45.320283",
     "exception": false,
     "start_time": "2024-06-02T21:20:44.789651",
     "status": "completed"
    },
    "tags": []
   },
   "outputs": [
    {
     "name": "stderr",
     "output_type": "stream",
     "text": [
      "100%|██████████| 37/37 [00:59<00:00,  1.61s/it]\n"
     ]
    }
   ],
   "source": [
    "with torch.no_grad():\n",
    "    all_predictions = []\n",
    "    surveys = []\n",
    "    top_k_indices = None\n",
    "    for batch_idx, (data0, data1, data2, data3, surveyID) in enumerate(tqdm(test_loader)):\n",
    "        data0 = data0.to(device)\n",
    "        data1 = data1.to(device)\n",
    "        data2 = data2.to(device)\n",
    "        data3 = data3.to(device)\n",
    "        targets = targets.to(device)\n",
    "\n",
    "        outputs = model(data0, data1, data2, data3)\n",
    "        predictions = torch.sigmoid(outputs).cpu().numpy()\n",
    "\n",
    "        # Sellect top-k values as predictions\n",
    "        top_k = np.argsort(-predictions, axis=1)[:, :best_top_k] \n",
    "        if top_k_indices is None:\n",
    "            top_k_indices = top_k\n",
    "        else:\n",
    "            top_k_indices = np.concatenate((top_k_indices, top_k), axis=0)\n",
    "\n",
    "        surveys.extend(surveyID.cpu().numpy())"
   ]
  },
  {
   "cell_type": "markdown",
   "id": "2bdbdc4d",
   "metadata": {
    "papermill": {
     "duration": 0.739981,
     "end_time": "2024-06-02T21:21:46.842875",
     "exception": false,
     "start_time": "2024-06-02T21:21:46.102894",
     "status": "completed"
    },
    "tags": []
   },
   "source": [
    "## Save prediction file!"
   ]
  },
  {
   "cell_type": "code",
   "execution_count": 20,
   "id": "7fa15b50",
   "metadata": {
    "execution": {
     "iopub.execute_input": "2024-06-02T21:21:48.409120Z",
     "iopub.status.busy": "2024-06-02T21:21:48.408232Z",
     "iopub.status.idle": "2024-06-02T21:21:48.495460Z",
     "shell.execute_reply": "2024-06-02T21:21:48.494706Z"
    },
    "papermill": {
     "duration": 0.852888,
     "end_time": "2024-06-02T21:21:48.497708",
     "exception": false,
     "start_time": "2024-06-02T21:21:47.644820",
     "status": "completed"
    },
    "tags": []
   },
   "outputs": [],
   "source": [
    "data_concatenated = [' '.join(map(str, row)) for row in top_k_indices]\n",
    "\n",
    "pd.DataFrame(\n",
    "    {'surveyId': surveys,\n",
    "     'predictions': data_concatenated,\n",
    "    }).to_csv(\"research/Baseline_experiments/outputs/baseline-crossval-topk-earlystopping/output.csv\", index = False)"
   ]
  },
  {
   "cell_type": "code",
   "execution_count": null,
   "id": "d10d68ff",
   "metadata": {
    "papermill": {
     "duration": 0.802527,
     "end_time": "2024-06-02T21:21:50.044521",
     "exception": false,
     "start_time": "2024-06-02T21:21:49.241994",
     "status": "completed"
    },
    "tags": []
   },
   "outputs": [],
   "source": []
  }
 ],
 "metadata": {
  "kaggle": {
   "accelerator": "gpu",
   "dataSources": [
    {
     "databundleVersionId": 8171035,
     "sourceId": 64733,
     "sourceType": "competition"
    }
   ],
   "dockerImageVersionId": 30716,
   "isGpuEnabled": true,
   "isInternetEnabled": true,
   "language": "python",
   "sourceType": "notebook"
  },
  "kernelspec": {
   "display_name": "Python 3 (ipykernel)",
   "language": "python",
   "name": "python3"
  },
  "language_info": {
   "codemirror_mode": {
    "name": "ipython",
    "version": 3
   },
   "file_extension": ".py",
   "mimetype": "text/x-python",
   "name": "python",
   "nbconvert_exporter": "python",
   "pygments_lexer": "ipython3",
   "version": "3.12.1"
  },
  "papermill": {
   "default_parameters": {},
   "duration": 6322.022447,
   "end_time": "2024-06-02T21:21:52.625699",
   "environment_variables": {},
   "exception": null,
   "input_path": "__notebook__.ipynb",
   "output_path": "__notebook__.ipynb",
   "parameters": {},
   "start_time": "2024-06-02T19:36:30.603252",
   "version": "2.5.0"
  }
 },
 "nbformat": 4,
 "nbformat_minor": 5
}
